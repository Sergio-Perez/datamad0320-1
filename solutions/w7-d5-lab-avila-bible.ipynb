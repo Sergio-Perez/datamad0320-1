{
 "cells": [
  {
   "cell_type": "markdown",
   "metadata": {},
   "source": [
    "# Lab | Avila Bible "
   ]
  },
  {
   "cell_type": "markdown",
   "metadata": {},
   "source": [
    "In this lab, we will explore the [**Avila Bible dataset**](https://archive.ics.uci.edu/ml/datasets/Avila) which has been extracted from 800 images of the 'Avila Bible', an XII century giant Latin copy of the Bible. The prediction task consists in associating each pattern to a copyist. You will use supervised learning algorithms to figure out what feature patterns each copyist are likely to have and use our model to predict those copyist."
   ]
  },
  {
   "cell_type": "markdown",
   "metadata": {},
   "source": [
    "-----------------------------------------------------------------------------------------------------------------"
   ]
  },
  {
   "cell_type": "markdown",
   "metadata": {},
   "source": [
    "## Before your start:\n",
    "    - Read the README.md file,\n",
    "    - Comment as much as you can and use the APIla-bible in the README.md,\n",
    "    - Happy learning!"
   ]
  },
  {
   "cell_type": "code",
   "execution_count": 28,
   "metadata": {},
   "outputs": [],
   "source": [
    "# Import your libraries\n",
    "import pandas as pd\n",
    "import numpy as np\n",
    "import seaborn as sns\n",
    "import matplotlib.pyplot as plt\n",
    "\n",
    "from sklearn.model_selection import train_test_split\n",
    "from sklearn.ensemble import GradientBoostingClassifier, RandomForestClassifier\n",
    "from sklearn.linear_model import LogisticRegression\n",
    "from sklearn.svm import SVC\n",
    "from sklearn.metrics import accuracy_score, precision_score, recall_score\n",
    "from sklearn.model_selection import GridSearchCV"
   ]
  },
  {
   "cell_type": "markdown",
   "metadata": {},
   "source": [
    "![machine-learning](https://miro.medium.com/proxy/1*halC1X4ydv_3yHYxKqvrwg.gif)"
   ]
  },
  {
   "cell_type": "markdown",
   "metadata": {},
   "source": [
    "The Avila data set has been extracted from 800 images of the the **Avila Bible**, a giant Latin copy of the whole Bible produced during the XII century between Italy and Spain. The palaeographic analysis of the  manuscript has  individuated the presence of 8 copyists. The pages written by each copyist are not equally numerous. \n",
    "Each pattern contains 10 features and corresponds to a group of 4 consecutive rows."
   ]
  },
  {
   "cell_type": "markdown",
   "metadata": {},
   "source": [
    "## What am I expected to do?"
   ]
  },
  {
   "cell_type": "markdown",
   "metadata": {},
   "source": [
    "Well, your prediction task consists in associating each pattern to one of the 8 monks we will be evaluating (labeled as:  Marcus, Clarius, Philippus, Coronavirucus, Mongucus, Paithonius, Ubuntius, Esequlius). For that aim, you should: \n",
    "- Train a minimum of 4 different models\n",
    "- Perform a minimum of 4 Feature Extraction and Engineering techniques\n",
    "- Must contain a summary of the machine learning tools and algorithms\n",
    "- and the results or the score obtained with each of them\n",
    "\n",
    "You won't get much more instructions from now on. Remember to comment your code as much as you can. Keep the requirements in mind and have fun! "
   ]
  },
  {
   "cell_type": "markdown",
   "metadata": {},
   "source": [
    "Just one last piece of advice, take a moment to explore the data, remember this dataset contains two files: **train** and **test**. You will find both files in `data` folder. The **test** files contains the data you will predict for, therefore it does not include the labels.\n",
    "Use the **train** dataset as you wish, but don't forget to split it into **train** and **test** again so you can evaluate your models. Just be sure to train it again with the whole data before predicting.\n",
    "We have also included a **sample submission** which is of the exact shape and format you must use when evaluating your predictions against the groundtruth through the `APIla-bible`. It won't work unless it is the exact same shape. \n",
    "\n"
   ]
  },
  {
   "cell_type": "markdown",
   "metadata": {},
   "source": [
    "#### Train dataset"
   ]
  },
  {
   "cell_type": "code",
   "execution_count": 17,
   "metadata": {},
   "outputs": [],
   "source": [
    "train_dataset = pd.read_csv('../data/training_dataset.csv', index_col=0)"
   ]
  },
  {
   "cell_type": "code",
   "execution_count": 18,
   "metadata": {},
   "outputs": [
    {
     "data": {
      "text/html": [
       "<div>\n",
       "<style scoped>\n",
       "    .dataframe tbody tr th:only-of-type {\n",
       "        vertical-align: middle;\n",
       "    }\n",
       "\n",
       "    .dataframe tbody tr th {\n",
       "        vertical-align: top;\n",
       "    }\n",
       "\n",
       "    .dataframe thead th {\n",
       "        text-align: right;\n",
       "    }\n",
       "</style>\n",
       "<table border=\"1\" class=\"dataframe\">\n",
       "  <thead>\n",
       "    <tr style=\"text-align: right;\">\n",
       "      <th></th>\n",
       "      <th>0</th>\n",
       "      <th>1</th>\n",
       "      <th>2</th>\n",
       "      <th>3</th>\n",
       "      <th>4</th>\n",
       "      <th>5</th>\n",
       "      <th>6</th>\n",
       "      <th>7</th>\n",
       "      <th>8</th>\n",
       "      <th>9</th>\n",
       "      <th>10</th>\n",
       "    </tr>\n",
       "  </thead>\n",
       "  <tbody>\n",
       "    <tr>\n",
       "      <th>0</th>\n",
       "      <td>0.241386</td>\n",
       "      <td>0.109171</td>\n",
       "      <td>-0.127126</td>\n",
       "      <td>0.380626</td>\n",
       "      <td>0.172340</td>\n",
       "      <td>0.314889</td>\n",
       "      <td>0.484429</td>\n",
       "      <td>0.316412</td>\n",
       "      <td>0.188810</td>\n",
       "      <td>0.134922</td>\n",
       "      <td>Marcus</td>\n",
       "    </tr>\n",
       "    <tr>\n",
       "      <th>1</th>\n",
       "      <td>0.303106</td>\n",
       "      <td>0.352558</td>\n",
       "      <td>0.082701</td>\n",
       "      <td>0.703981</td>\n",
       "      <td>0.261718</td>\n",
       "      <td>-0.391033</td>\n",
       "      <td>0.408929</td>\n",
       "      <td>1.045014</td>\n",
       "      <td>0.282354</td>\n",
       "      <td>-0.448209</td>\n",
       "      <td>Clarius</td>\n",
       "    </tr>\n",
       "    <tr>\n",
       "      <th>2</th>\n",
       "      <td>-0.116585</td>\n",
       "      <td>0.281897</td>\n",
       "      <td>0.175168</td>\n",
       "      <td>-0.152490</td>\n",
       "      <td>0.261718</td>\n",
       "      <td>-0.889332</td>\n",
       "      <td>0.371178</td>\n",
       "      <td>-0.024328</td>\n",
       "      <td>0.905984</td>\n",
       "      <td>-0.877830</td>\n",
       "      <td>Philippus</td>\n",
       "    </tr>\n",
       "    <tr>\n",
       "      <th>3</th>\n",
       "      <td>-0.326430</td>\n",
       "      <td>-0.652394</td>\n",
       "      <td>0.384996</td>\n",
       "      <td>-1.694222</td>\n",
       "      <td>-0.185173</td>\n",
       "      <td>-1.138481</td>\n",
       "      <td>-0.232828</td>\n",
       "      <td>-1.747116</td>\n",
       "      <td>-1.183175</td>\n",
       "      <td>-0.807380</td>\n",
       "      <td>Philippus</td>\n",
       "    </tr>\n",
       "    <tr>\n",
       "      <th>4</th>\n",
       "      <td>-0.437525</td>\n",
       "      <td>-0.471816</td>\n",
       "      <td>0.463236</td>\n",
       "      <td>-0.545248</td>\n",
       "      <td>0.261718</td>\n",
       "      <td>-0.972381</td>\n",
       "      <td>0.824183</td>\n",
       "      <td>-3.108388</td>\n",
       "      <td>-2.991700</td>\n",
       "      <td>-1.141030</td>\n",
       "      <td>Philippus</td>\n",
       "    </tr>\n",
       "  </tbody>\n",
       "</table>\n",
       "</div>"
      ],
      "text/plain": [
       "          0         1         2         3         4         5         6  \\\n",
       "0  0.241386  0.109171 -0.127126  0.380626  0.172340  0.314889  0.484429   \n",
       "1  0.303106  0.352558  0.082701  0.703981  0.261718 -0.391033  0.408929   \n",
       "2 -0.116585  0.281897  0.175168 -0.152490  0.261718 -0.889332  0.371178   \n",
       "3 -0.326430 -0.652394  0.384996 -1.694222 -0.185173 -1.138481 -0.232828   \n",
       "4 -0.437525 -0.471816  0.463236 -0.545248  0.261718 -0.972381  0.824183   \n",
       "\n",
       "          7         8         9         10  \n",
       "0  0.316412  0.188810  0.134922     Marcus  \n",
       "1  1.045014  0.282354 -0.448209    Clarius  \n",
       "2 -0.024328  0.905984 -0.877830  Philippus  \n",
       "3 -1.747116 -1.183175 -0.807380  Philippus  \n",
       "4 -3.108388 -2.991700 -1.141030  Philippus  "
      ]
     },
     "execution_count": 18,
     "metadata": {},
     "output_type": "execute_result"
    }
   ],
   "source": [
    "train_dataset.head()"
   ]
  },
  {
   "cell_type": "markdown",
   "metadata": {},
   "source": [
    "#### Test dataset\n"
   ]
  },
  {
   "cell_type": "code",
   "execution_count": 4,
   "metadata": {},
   "outputs": [],
   "source": [
    "test_dataset = pd.read_csv('../data/test_dataset.csv', index_col=0)"
   ]
  },
  {
   "cell_type": "code",
   "execution_count": 5,
   "metadata": {},
   "outputs": [
    {
     "data": {
      "text/html": [
       "<div>\n",
       "<style scoped>\n",
       "    .dataframe tbody tr th:only-of-type {\n",
       "        vertical-align: middle;\n",
       "    }\n",
       "\n",
       "    .dataframe tbody tr th {\n",
       "        vertical-align: top;\n",
       "    }\n",
       "\n",
       "    .dataframe thead th {\n",
       "        text-align: right;\n",
       "    }\n",
       "</style>\n",
       "<table border=\"1\" class=\"dataframe\">\n",
       "  <thead>\n",
       "    <tr style=\"text-align: right;\">\n",
       "      <th></th>\n",
       "      <th>0</th>\n",
       "      <th>1</th>\n",
       "      <th>2</th>\n",
       "      <th>3</th>\n",
       "      <th>4</th>\n",
       "      <th>5</th>\n",
       "      <th>6</th>\n",
       "      <th>7</th>\n",
       "      <th>8</th>\n",
       "      <th>9</th>\n",
       "    </tr>\n",
       "  </thead>\n",
       "  <tbody>\n",
       "    <tr>\n",
       "      <th>0</th>\n",
       "      <td>-0.017834</td>\n",
       "      <td>0.132725</td>\n",
       "      <td>0.125378</td>\n",
       "      <td>1.357345</td>\n",
       "      <td>0.261718</td>\n",
       "      <td>0.190314</td>\n",
       "      <td>0.182426</td>\n",
       "      <td>0.445253</td>\n",
       "      <td>-0.715453</td>\n",
       "      <td>0.189796</td>\n",
       "    </tr>\n",
       "    <tr>\n",
       "      <th>1</th>\n",
       "      <td>-0.202992</td>\n",
       "      <td>-0.000745</td>\n",
       "      <td>-3.210528</td>\n",
       "      <td>-0.527256</td>\n",
       "      <td>0.082961</td>\n",
       "      <td>0.771662</td>\n",
       "      <td>0.144676</td>\n",
       "      <td>0.098572</td>\n",
       "      <td>0.251173</td>\n",
       "      <td>0.745333</td>\n",
       "    </tr>\n",
       "    <tr>\n",
       "      <th>2</th>\n",
       "      <td>1.019049</td>\n",
       "      <td>0.211237</td>\n",
       "      <td>-0.155578</td>\n",
       "      <td>-0.311855</td>\n",
       "      <td>0.261718</td>\n",
       "      <td>0.107265</td>\n",
       "      <td>0.484429</td>\n",
       "      <td>0.339303</td>\n",
       "      <td>-0.310094</td>\n",
       "      <td>-0.049630</td>\n",
       "    </tr>\n",
       "    <tr>\n",
       "      <th>3</th>\n",
       "      <td>0.451232</td>\n",
       "      <td>-0.267686</td>\n",
       "      <td>0.335206</td>\n",
       "      <td>-0.831336</td>\n",
       "      <td>0.261718</td>\n",
       "      <td>0.024215</td>\n",
       "      <td>0.220177</td>\n",
       "      <td>0.988787</td>\n",
       "      <td>0.032902</td>\n",
       "      <td>0.025485</td>\n",
       "    </tr>\n",
       "    <tr>\n",
       "      <th>4</th>\n",
       "      <td>-0.227680</td>\n",
       "      <td>0.109171</td>\n",
       "      <td>0.413447</td>\n",
       "      <td>0.118917</td>\n",
       "      <td>0.172340</td>\n",
       "      <td>0.480988</td>\n",
       "      <td>0.522180</td>\n",
       "      <td>0.091562</td>\n",
       "      <td>0.313536</td>\n",
       "      <td>0.256389</td>\n",
       "    </tr>\n",
       "  </tbody>\n",
       "</table>\n",
       "</div>"
      ],
      "text/plain": [
       "          0         1         2         3         4         5         6  \\\n",
       "0 -0.017834  0.132725  0.125378  1.357345  0.261718  0.190314  0.182426   \n",
       "1 -0.202992 -0.000745 -3.210528 -0.527256  0.082961  0.771662  0.144676   \n",
       "2  1.019049  0.211237 -0.155578 -0.311855  0.261718  0.107265  0.484429   \n",
       "3  0.451232 -0.267686  0.335206 -0.831336  0.261718  0.024215  0.220177   \n",
       "4 -0.227680  0.109171  0.413447  0.118917  0.172340  0.480988  0.522180   \n",
       "\n",
       "          7         8         9  \n",
       "0  0.445253 -0.715453  0.189796  \n",
       "1  0.098572  0.251173  0.745333  \n",
       "2  0.339303 -0.310094 -0.049630  \n",
       "3  0.988787  0.032902  0.025485  \n",
       "4  0.091562  0.313536  0.256389  "
      ]
     },
     "execution_count": 5,
     "metadata": {},
     "output_type": "execute_result"
    }
   ],
   "source": [
    "test_dataset.head()"
   ]
  },
  {
   "cell_type": "markdown",
   "metadata": {},
   "source": [
    "#### Sample submission"
   ]
  },
  {
   "cell_type": "code",
   "execution_count": 6,
   "metadata": {},
   "outputs": [],
   "source": [
    "sample_submission = pd.read_csv('../data/sample_submission.csv', header=None, index_col=0)"
   ]
  },
  {
   "cell_type": "code",
   "execution_count": 7,
   "metadata": {},
   "outputs": [
    {
     "data": {
      "text/html": [
       "<div>\n",
       "<style scoped>\n",
       "    .dataframe tbody tr th:only-of-type {\n",
       "        vertical-align: middle;\n",
       "    }\n",
       "\n",
       "    .dataframe tbody tr th {\n",
       "        vertical-align: top;\n",
       "    }\n",
       "\n",
       "    .dataframe thead th {\n",
       "        text-align: right;\n",
       "    }\n",
       "</style>\n",
       "<table border=\"1\" class=\"dataframe\">\n",
       "  <thead>\n",
       "    <tr style=\"text-align: right;\">\n",
       "      <th></th>\n",
       "      <th>1</th>\n",
       "    </tr>\n",
       "    <tr>\n",
       "      <th>0</th>\n",
       "      <th></th>\n",
       "    </tr>\n",
       "  </thead>\n",
       "  <tbody>\n",
       "    <tr>\n",
       "      <th>0</th>\n",
       "      <td>Philippus</td>\n",
       "    </tr>\n",
       "    <tr>\n",
       "      <th>1</th>\n",
       "      <td>Ubuntius</td>\n",
       "    </tr>\n",
       "    <tr>\n",
       "      <th>2</th>\n",
       "      <td>Esequlius</td>\n",
       "    </tr>\n",
       "    <tr>\n",
       "      <th>3</th>\n",
       "      <td>Coronavirucus</td>\n",
       "    </tr>\n",
       "    <tr>\n",
       "      <th>4</th>\n",
       "      <td>Philippus</td>\n",
       "    </tr>\n",
       "  </tbody>\n",
       "</table>\n",
       "</div>"
      ],
      "text/plain": [
       "               1\n",
       "0               \n",
       "0      Philippus\n",
       "1       Ubuntius\n",
       "2      Esequlius\n",
       "3  Coronavirucus\n",
       "4      Philippus"
      ]
     },
     "execution_count": 7,
     "metadata": {},
     "output_type": "execute_result"
    }
   ],
   "source": [
    "sample_submission.head()"
   ]
  },
  {
   "cell_type": "markdown",
   "metadata": {},
   "source": [
    "`Keep calm and code on!`"
   ]
  },
  {
   "cell_type": "markdown",
   "metadata": {},
   "source": [
    "# Challenge - train your models, make the best prediction"
   ]
  },
  {
   "cell_type": "markdown",
   "metadata": {},
   "source": [
    "--------------------------------------------------------------------------------------------------------------"
   ]
  },
  {
   "cell_type": "markdown",
   "metadata": {},
   "source": [
    "## 1. Explore the data and deal with features"
   ]
  },
  {
   "cell_type": "code",
   "execution_count": 19,
   "metadata": {},
   "outputs": [
    {
     "name": "stdout",
     "output_type": "stream",
     "text": [
      "<class 'pandas.core.frame.DataFrame'>\n",
      "Int64Index: 12017 entries, 0 to 12016\n",
      "Data columns (total 11 columns):\n",
      "0     12017 non-null float64\n",
      "1     12017 non-null float64\n",
      "2     12017 non-null float64\n",
      "3     12017 non-null float64\n",
      "4     12017 non-null float64\n",
      "5     12017 non-null float64\n",
      "6     12017 non-null float64\n",
      "7     12017 non-null float64\n",
      "8     12017 non-null float64\n",
      "9     12017 non-null float64\n",
      "10    12017 non-null object\n",
      "dtypes: float64(10), object(1)\n",
      "memory usage: 1.1+ MB\n"
     ]
    }
   ],
   "source": [
    "train_dataset.info()"
   ]
  },
  {
   "cell_type": "markdown",
   "metadata": {},
   "source": [
    "First things first, since we know from the competition the name of the columns I will rename them, in order to be able to understand the behaviour of the data:\n",
    "\n",
    "    F1: intercolumnar distance\n",
    "    F2: upper margin\n",
    "    F3: lower margin\n",
    "    F4: exploitation\n",
    "    F5: row number\n",
    "    F6: modular ratio\n",
    "    F7: interlinear spacing\n",
    "    F8: weight\n",
    "    F9: peak number\n",
    "    F10: modular ratio/ interlinear spacing\n",
    "\n"
   ]
  },
  {
   "cell_type": "code",
   "execution_count": 20,
   "metadata": {},
   "outputs": [],
   "source": [
    "train_dataset.rename(columns={\"0\": \"intercolumnar distance\",\n",
    "\"1\": \"upper margin\",\n",
    "\"2\": \"lower margin\",\n",
    "\"3\": \"exploitation\",\n",
    "\"4\": \"row number\",\n",
    "\"5\": \"modular ratio\",\n",
    "\"6\": \"interlinear spacing\",\n",
    "\"7\": \"weight\",\n",
    "\"8\": \"peak number\",\n",
    "\"9\": \"modular ratio/ interlinear spacing\",\n",
    "\"10\": \"scribe\"}, inplace=True)"
   ]
  },
  {
   "cell_type": "code",
   "execution_count": 21,
   "metadata": {},
   "outputs": [
    {
     "data": {
      "text/html": [
       "<div>\n",
       "<style scoped>\n",
       "    .dataframe tbody tr th:only-of-type {\n",
       "        vertical-align: middle;\n",
       "    }\n",
       "\n",
       "    .dataframe tbody tr th {\n",
       "        vertical-align: top;\n",
       "    }\n",
       "\n",
       "    .dataframe thead th {\n",
       "        text-align: right;\n",
       "    }\n",
       "</style>\n",
       "<table border=\"1\" class=\"dataframe\">\n",
       "  <thead>\n",
       "    <tr style=\"text-align: right;\">\n",
       "      <th></th>\n",
       "      <th>intercolumnar distance</th>\n",
       "      <th>upper margin</th>\n",
       "      <th>lower margin</th>\n",
       "      <th>exploitation</th>\n",
       "      <th>row number</th>\n",
       "      <th>modular ratio</th>\n",
       "      <th>interlinear spacing</th>\n",
       "      <th>weight</th>\n",
       "      <th>peak number</th>\n",
       "      <th>modular ratio/ interlinear spacing</th>\n",
       "      <th>scribe</th>\n",
       "    </tr>\n",
       "  </thead>\n",
       "  <tbody>\n",
       "    <tr>\n",
       "      <th>0</th>\n",
       "      <td>0.241386</td>\n",
       "      <td>0.109171</td>\n",
       "      <td>-0.127126</td>\n",
       "      <td>0.380626</td>\n",
       "      <td>0.172340</td>\n",
       "      <td>0.314889</td>\n",
       "      <td>0.484429</td>\n",
       "      <td>0.316412</td>\n",
       "      <td>0.188810</td>\n",
       "      <td>0.134922</td>\n",
       "      <td>Marcus</td>\n",
       "    </tr>\n",
       "    <tr>\n",
       "      <th>1</th>\n",
       "      <td>0.303106</td>\n",
       "      <td>0.352558</td>\n",
       "      <td>0.082701</td>\n",
       "      <td>0.703981</td>\n",
       "      <td>0.261718</td>\n",
       "      <td>-0.391033</td>\n",
       "      <td>0.408929</td>\n",
       "      <td>1.045014</td>\n",
       "      <td>0.282354</td>\n",
       "      <td>-0.448209</td>\n",
       "      <td>Clarius</td>\n",
       "    </tr>\n",
       "    <tr>\n",
       "      <th>2</th>\n",
       "      <td>-0.116585</td>\n",
       "      <td>0.281897</td>\n",
       "      <td>0.175168</td>\n",
       "      <td>-0.152490</td>\n",
       "      <td>0.261718</td>\n",
       "      <td>-0.889332</td>\n",
       "      <td>0.371178</td>\n",
       "      <td>-0.024328</td>\n",
       "      <td>0.905984</td>\n",
       "      <td>-0.877830</td>\n",
       "      <td>Philippus</td>\n",
       "    </tr>\n",
       "    <tr>\n",
       "      <th>3</th>\n",
       "      <td>-0.326430</td>\n",
       "      <td>-0.652394</td>\n",
       "      <td>0.384996</td>\n",
       "      <td>-1.694222</td>\n",
       "      <td>-0.185173</td>\n",
       "      <td>-1.138481</td>\n",
       "      <td>-0.232828</td>\n",
       "      <td>-1.747116</td>\n",
       "      <td>-1.183175</td>\n",
       "      <td>-0.807380</td>\n",
       "      <td>Philippus</td>\n",
       "    </tr>\n",
       "    <tr>\n",
       "      <th>4</th>\n",
       "      <td>-0.437525</td>\n",
       "      <td>-0.471816</td>\n",
       "      <td>0.463236</td>\n",
       "      <td>-0.545248</td>\n",
       "      <td>0.261718</td>\n",
       "      <td>-0.972381</td>\n",
       "      <td>0.824183</td>\n",
       "      <td>-3.108388</td>\n",
       "      <td>-2.991700</td>\n",
       "      <td>-1.141030</td>\n",
       "      <td>Philippus</td>\n",
       "    </tr>\n",
       "  </tbody>\n",
       "</table>\n",
       "</div>"
      ],
      "text/plain": [
       "   intercolumnar distance  upper margin  lower margin  exploitation  \\\n",
       "0                0.241386      0.109171     -0.127126      0.380626   \n",
       "1                0.303106      0.352558      0.082701      0.703981   \n",
       "2               -0.116585      0.281897      0.175168     -0.152490   \n",
       "3               -0.326430     -0.652394      0.384996     -1.694222   \n",
       "4               -0.437525     -0.471816      0.463236     -0.545248   \n",
       "\n",
       "   row number  modular ratio  interlinear spacing    weight  peak number  \\\n",
       "0    0.172340       0.314889             0.484429  0.316412     0.188810   \n",
       "1    0.261718      -0.391033             0.408929  1.045014     0.282354   \n",
       "2    0.261718      -0.889332             0.371178 -0.024328     0.905984   \n",
       "3   -0.185173      -1.138481            -0.232828 -1.747116    -1.183175   \n",
       "4    0.261718      -0.972381             0.824183 -3.108388    -2.991700   \n",
       "\n",
       "   modular ratio/ interlinear spacing     scribe  \n",
       "0                            0.134922     Marcus  \n",
       "1                           -0.448209    Clarius  \n",
       "2                           -0.877830  Philippus  \n",
       "3                           -0.807380  Philippus  \n",
       "4                           -1.141030  Philippus  "
      ]
     },
     "execution_count": 21,
     "metadata": {},
     "output_type": "execute_result"
    }
   ],
   "source": [
    "train_dataset.head()"
   ]
  },
  {
   "cell_type": "code",
   "execution_count": 22,
   "metadata": {},
   "outputs": [
    {
     "data": {
      "text/html": [
       "<div>\n",
       "<style scoped>\n",
       "    .dataframe tbody tr th:only-of-type {\n",
       "        vertical-align: middle;\n",
       "    }\n",
       "\n",
       "    .dataframe tbody tr th {\n",
       "        vertical-align: top;\n",
       "    }\n",
       "\n",
       "    .dataframe thead th {\n",
       "        text-align: right;\n",
       "    }\n",
       "</style>\n",
       "<table border=\"1\" class=\"dataframe\">\n",
       "  <thead>\n",
       "    <tr style=\"text-align: right;\">\n",
       "      <th></th>\n",
       "      <th>intercolumnar distance</th>\n",
       "      <th>upper margin</th>\n",
       "      <th>lower margin</th>\n",
       "      <th>exploitation</th>\n",
       "      <th>row number</th>\n",
       "      <th>modular ratio</th>\n",
       "      <th>interlinear spacing</th>\n",
       "      <th>weight</th>\n",
       "      <th>peak number</th>\n",
       "      <th>modular ratio/ interlinear spacing</th>\n",
       "    </tr>\n",
       "  </thead>\n",
       "  <tbody>\n",
       "    <tr>\n",
       "      <th>count</th>\n",
       "      <td>12017.000000</td>\n",
       "      <td>12017.000000</td>\n",
       "      <td>12017.000000</td>\n",
       "      <td>12017.000000</td>\n",
       "      <td>12017.000000</td>\n",
       "      <td>12017.000000</td>\n",
       "      <td>12017.000000</td>\n",
       "      <td>12017.000000</td>\n",
       "      <td>12017.000000</td>\n",
       "      <td>12017.000000</td>\n",
       "    </tr>\n",
       "    <tr>\n",
       "      <th>mean</th>\n",
       "      <td>0.021280</td>\n",
       "      <td>0.030684</td>\n",
       "      <td>-0.000379</td>\n",
       "      <td>-0.022127</td>\n",
       "      <td>0.006801</td>\n",
       "      <td>-0.001279</td>\n",
       "      <td>0.032540</td>\n",
       "      <td>-0.006720</td>\n",
       "      <td>-0.011368</td>\n",
       "      <td>-0.026942</td>\n",
       "    </tr>\n",
       "    <tr>\n",
       "      <th>std</th>\n",
       "      <td>1.004481</td>\n",
       "      <td>3.661030</td>\n",
       "      <td>1.072319</td>\n",
       "      <td>1.002045</td>\n",
       "      <td>0.963679</td>\n",
       "      <td>1.108192</td>\n",
       "      <td>1.245215</td>\n",
       "      <td>1.012995</td>\n",
       "      <td>1.085821</td>\n",
       "      <td>0.985799</td>\n",
       "    </tr>\n",
       "    <tr>\n",
       "      <th>min</th>\n",
       "      <td>-3.498799</td>\n",
       "      <td>-2.426761</td>\n",
       "      <td>-3.210528</td>\n",
       "      <td>-5.440122</td>\n",
       "      <td>-4.922215</td>\n",
       "      <td>-7.450257</td>\n",
       "      <td>-11.935457</td>\n",
       "      <td>-4.164819</td>\n",
       "      <td>-5.486218</td>\n",
       "      <td>-6.719324</td>\n",
       "    </tr>\n",
       "    <tr>\n",
       "      <th>25%</th>\n",
       "      <td>-0.128929</td>\n",
       "      <td>-0.259834</td>\n",
       "      <td>0.064919</td>\n",
       "      <td>-0.542563</td>\n",
       "      <td>0.172340</td>\n",
       "      <td>-0.598658</td>\n",
       "      <td>-0.006326</td>\n",
       "      <td>-0.555747</td>\n",
       "      <td>-0.372457</td>\n",
       "      <td>-0.528135</td>\n",
       "    </tr>\n",
       "    <tr>\n",
       "      <th>50%</th>\n",
       "      <td>0.056229</td>\n",
       "      <td>-0.055704</td>\n",
       "      <td>0.214288</td>\n",
       "      <td>0.080127</td>\n",
       "      <td>0.261718</td>\n",
       "      <td>-0.058835</td>\n",
       "      <td>0.220177</td>\n",
       "      <td>0.101115</td>\n",
       "      <td>0.064084</td>\n",
       "      <td>-0.053548</td>\n",
       "    </tr>\n",
       "    <tr>\n",
       "      <th>75%</th>\n",
       "      <td>0.216699</td>\n",
       "      <td>0.203385</td>\n",
       "      <td>0.349432</td>\n",
       "      <td>0.601905</td>\n",
       "      <td>0.261718</td>\n",
       "      <td>0.522513</td>\n",
       "      <td>0.446679</td>\n",
       "      <td>0.646377</td>\n",
       "      <td>0.500624</td>\n",
       "      <td>0.491862</td>\n",
       "    </tr>\n",
       "    <tr>\n",
       "      <th>max</th>\n",
       "      <td>11.819916</td>\n",
       "      <td>386.000000</td>\n",
       "      <td>50.000000</td>\n",
       "      <td>3.987152</td>\n",
       "      <td>1.066121</td>\n",
       "      <td>53.000000</td>\n",
       "      <td>83.000000</td>\n",
       "      <td>13.173081</td>\n",
       "      <td>44.000000</td>\n",
       "      <td>11.911338</td>\n",
       "    </tr>\n",
       "  </tbody>\n",
       "</table>\n",
       "</div>"
      ],
      "text/plain": [
       "       intercolumnar distance  upper margin  lower margin  exploitation  \\\n",
       "count            12017.000000  12017.000000  12017.000000  12017.000000   \n",
       "mean                 0.021280      0.030684     -0.000379     -0.022127   \n",
       "std                  1.004481      3.661030      1.072319      1.002045   \n",
       "min                 -3.498799     -2.426761     -3.210528     -5.440122   \n",
       "25%                 -0.128929     -0.259834      0.064919     -0.542563   \n",
       "50%                  0.056229     -0.055704      0.214288      0.080127   \n",
       "75%                  0.216699      0.203385      0.349432      0.601905   \n",
       "max                 11.819916    386.000000     50.000000      3.987152   \n",
       "\n",
       "         row number  modular ratio  interlinear spacing        weight  \\\n",
       "count  12017.000000   12017.000000         12017.000000  12017.000000   \n",
       "mean       0.006801      -0.001279             0.032540     -0.006720   \n",
       "std        0.963679       1.108192             1.245215      1.012995   \n",
       "min       -4.922215      -7.450257           -11.935457     -4.164819   \n",
       "25%        0.172340      -0.598658            -0.006326     -0.555747   \n",
       "50%        0.261718      -0.058835             0.220177      0.101115   \n",
       "75%        0.261718       0.522513             0.446679      0.646377   \n",
       "max        1.066121      53.000000            83.000000     13.173081   \n",
       "\n",
       "        peak number  modular ratio/ interlinear spacing  \n",
       "count  12017.000000                        12017.000000  \n",
       "mean      -0.011368                           -0.026942  \n",
       "std        1.085821                            0.985799  \n",
       "min       -5.486218                           -6.719324  \n",
       "25%       -0.372457                           -0.528135  \n",
       "50%        0.064084                           -0.053548  \n",
       "75%        0.500624                            0.491862  \n",
       "max       44.000000                           11.911338  "
      ]
     },
     "execution_count": 22,
     "metadata": {},
     "output_type": "execute_result"
    }
   ],
   "source": [
    "train_dataset.describe()"
   ]
  },
  {
   "cell_type": "code",
   "execution_count": 23,
   "metadata": {},
   "outputs": [
    {
     "data": {
      "text/html": [
       "<div>\n",
       "<style scoped>\n",
       "    .dataframe tbody tr th:only-of-type {\n",
       "        vertical-align: middle;\n",
       "    }\n",
       "\n",
       "    .dataframe tbody tr th {\n",
       "        vertical-align: top;\n",
       "    }\n",
       "\n",
       "    .dataframe thead th {\n",
       "        text-align: right;\n",
       "    }\n",
       "</style>\n",
       "<table border=\"1\" class=\"dataframe\">\n",
       "  <thead>\n",
       "    <tr style=\"text-align: right;\">\n",
       "      <th></th>\n",
       "      <th>intercolumnar distance</th>\n",
       "      <th>upper margin</th>\n",
       "      <th>lower margin</th>\n",
       "      <th>exploitation</th>\n",
       "      <th>row number</th>\n",
       "      <th>modular ratio</th>\n",
       "      <th>interlinear spacing</th>\n",
       "      <th>weight</th>\n",
       "      <th>peak number</th>\n",
       "      <th>modular ratio/ interlinear spacing</th>\n",
       "    </tr>\n",
       "  </thead>\n",
       "  <tbody>\n",
       "    <tr>\n",
       "      <th>intercolumnar distance</th>\n",
       "      <td>1.0</td>\n",
       "      <td>NaN</td>\n",
       "      <td>NaN</td>\n",
       "      <td>NaN</td>\n",
       "      <td>NaN</td>\n",
       "      <td>NaN</td>\n",
       "      <td>NaN</td>\n",
       "      <td>NaN</td>\n",
       "      <td>NaN</td>\n",
       "      <td>NaN</td>\n",
       "    </tr>\n",
       "    <tr>\n",
       "      <th>upper margin</th>\n",
       "      <td>NaN</td>\n",
       "      <td>1.0</td>\n",
       "      <td>NaN</td>\n",
       "      <td>NaN</td>\n",
       "      <td>NaN</td>\n",
       "      <td>NaN</td>\n",
       "      <td>NaN</td>\n",
       "      <td>NaN</td>\n",
       "      <td>NaN</td>\n",
       "      <td>NaN</td>\n",
       "    </tr>\n",
       "    <tr>\n",
       "      <th>lower margin</th>\n",
       "      <td>NaN</td>\n",
       "      <td>NaN</td>\n",
       "      <td>1.0</td>\n",
       "      <td>NaN</td>\n",
       "      <td>NaN</td>\n",
       "      <td>NaN</td>\n",
       "      <td>NaN</td>\n",
       "      <td>NaN</td>\n",
       "      <td>NaN</td>\n",
       "      <td>NaN</td>\n",
       "    </tr>\n",
       "    <tr>\n",
       "      <th>exploitation</th>\n",
       "      <td>NaN</td>\n",
       "      <td>NaN</td>\n",
       "      <td>NaN</td>\n",
       "      <td>1.0</td>\n",
       "      <td>NaN</td>\n",
       "      <td>NaN</td>\n",
       "      <td>NaN</td>\n",
       "      <td>NaN</td>\n",
       "      <td>NaN</td>\n",
       "      <td>NaN</td>\n",
       "    </tr>\n",
       "    <tr>\n",
       "      <th>row number</th>\n",
       "      <td>NaN</td>\n",
       "      <td>NaN</td>\n",
       "      <td>NaN</td>\n",
       "      <td>NaN</td>\n",
       "      <td>1.0</td>\n",
       "      <td>NaN</td>\n",
       "      <td>NaN</td>\n",
       "      <td>NaN</td>\n",
       "      <td>NaN</td>\n",
       "      <td>NaN</td>\n",
       "    </tr>\n",
       "    <tr>\n",
       "      <th>modular ratio</th>\n",
       "      <td>NaN</td>\n",
       "      <td>NaN</td>\n",
       "      <td>NaN</td>\n",
       "      <td>NaN</td>\n",
       "      <td>NaN</td>\n",
       "      <td>1.0</td>\n",
       "      <td>NaN</td>\n",
       "      <td>NaN</td>\n",
       "      <td>NaN</td>\n",
       "      <td>NaN</td>\n",
       "    </tr>\n",
       "    <tr>\n",
       "      <th>interlinear spacing</th>\n",
       "      <td>NaN</td>\n",
       "      <td>NaN</td>\n",
       "      <td>NaN</td>\n",
       "      <td>NaN</td>\n",
       "      <td>NaN</td>\n",
       "      <td>NaN</td>\n",
       "      <td>1.0</td>\n",
       "      <td>NaN</td>\n",
       "      <td>NaN</td>\n",
       "      <td>NaN</td>\n",
       "    </tr>\n",
       "    <tr>\n",
       "      <th>weight</th>\n",
       "      <td>NaN</td>\n",
       "      <td>NaN</td>\n",
       "      <td>NaN</td>\n",
       "      <td>NaN</td>\n",
       "      <td>NaN</td>\n",
       "      <td>NaN</td>\n",
       "      <td>NaN</td>\n",
       "      <td>1.0</td>\n",
       "      <td>NaN</td>\n",
       "      <td>NaN</td>\n",
       "    </tr>\n",
       "    <tr>\n",
       "      <th>peak number</th>\n",
       "      <td>NaN</td>\n",
       "      <td>NaN</td>\n",
       "      <td>NaN</td>\n",
       "      <td>NaN</td>\n",
       "      <td>NaN</td>\n",
       "      <td>NaN</td>\n",
       "      <td>NaN</td>\n",
       "      <td>NaN</td>\n",
       "      <td>1.0</td>\n",
       "      <td>NaN</td>\n",
       "    </tr>\n",
       "    <tr>\n",
       "      <th>modular ratio/ interlinear spacing</th>\n",
       "      <td>NaN</td>\n",
       "      <td>NaN</td>\n",
       "      <td>NaN</td>\n",
       "      <td>NaN</td>\n",
       "      <td>NaN</td>\n",
       "      <td>NaN</td>\n",
       "      <td>NaN</td>\n",
       "      <td>NaN</td>\n",
       "      <td>NaN</td>\n",
       "      <td>1.0</td>\n",
       "    </tr>\n",
       "  </tbody>\n",
       "</table>\n",
       "</div>"
      ],
      "text/plain": [
       "                                    intercolumnar distance  upper margin  \\\n",
       "intercolumnar distance                                 1.0           NaN   \n",
       "upper margin                                           NaN           1.0   \n",
       "lower margin                                           NaN           NaN   \n",
       "exploitation                                           NaN           NaN   \n",
       "row number                                             NaN           NaN   \n",
       "modular ratio                                          NaN           NaN   \n",
       "interlinear spacing                                    NaN           NaN   \n",
       "weight                                                 NaN           NaN   \n",
       "peak number                                            NaN           NaN   \n",
       "modular ratio/ interlinear spacing                     NaN           NaN   \n",
       "\n",
       "                                    lower margin  exploitation  row number  \\\n",
       "intercolumnar distance                       NaN           NaN         NaN   \n",
       "upper margin                                 NaN           NaN         NaN   \n",
       "lower margin                                 1.0           NaN         NaN   \n",
       "exploitation                                 NaN           1.0         NaN   \n",
       "row number                                   NaN           NaN         1.0   \n",
       "modular ratio                                NaN           NaN         NaN   \n",
       "interlinear spacing                          NaN           NaN         NaN   \n",
       "weight                                       NaN           NaN         NaN   \n",
       "peak number                                  NaN           NaN         NaN   \n",
       "modular ratio/ interlinear spacing           NaN           NaN         NaN   \n",
       "\n",
       "                                    modular ratio  interlinear spacing  \\\n",
       "intercolumnar distance                        NaN                  NaN   \n",
       "upper margin                                  NaN                  NaN   \n",
       "lower margin                                  NaN                  NaN   \n",
       "exploitation                                  NaN                  NaN   \n",
       "row number                                    NaN                  NaN   \n",
       "modular ratio                                 1.0                  NaN   \n",
       "interlinear spacing                           NaN                  1.0   \n",
       "weight                                        NaN                  NaN   \n",
       "peak number                                   NaN                  NaN   \n",
       "modular ratio/ interlinear spacing            NaN                  NaN   \n",
       "\n",
       "                                    weight  peak number  \\\n",
       "intercolumnar distance                 NaN          NaN   \n",
       "upper margin                           NaN          NaN   \n",
       "lower margin                           NaN          NaN   \n",
       "exploitation                           NaN          NaN   \n",
       "row number                             NaN          NaN   \n",
       "modular ratio                          NaN          NaN   \n",
       "interlinear spacing                    NaN          NaN   \n",
       "weight                                 1.0          NaN   \n",
       "peak number                            NaN          1.0   \n",
       "modular ratio/ interlinear spacing     NaN          NaN   \n",
       "\n",
       "                                    modular ratio/ interlinear spacing  \n",
       "intercolumnar distance                                             NaN  \n",
       "upper margin                                                       NaN  \n",
       "lower margin                                                       NaN  \n",
       "exploitation                                                       NaN  \n",
       "row number                                                         NaN  \n",
       "modular ratio                                                      NaN  \n",
       "interlinear spacing                                                NaN  \n",
       "weight                                                             NaN  \n",
       "peak number                                                        NaN  \n",
       "modular ratio/ interlinear spacing                                 1.0  "
      ]
     },
     "execution_count": 23,
     "metadata": {},
     "output_type": "execute_result"
    }
   ],
   "source": [
    "corr_ma = train_dataset.corr()\n",
    "corr_ma[corr_ma>0.8]"
   ]
  },
  {
   "cell_type": "code",
   "execution_count": 29,
   "metadata": {},
   "outputs": [
    {
     "data": {
      "text/plain": [
       "<matplotlib.axes._subplots.AxesSubplot at 0x7f81346558d0>"
      ]
     },
     "execution_count": 29,
     "metadata": {},
     "output_type": "execute_result"
    },
    {
     "data": {
      "image/png": "[encoded data removed]",
      "text/plain": [
       "<Figure size 720x504 with 2 Axes>"
      ]
     },
     "metadata": {
      "needs_background": "light"
     },
     "output_type": "display_data"
    }
   ],
   "source": [
    "mask = np.zeros_like(corr_ma, dtype=np.bool)\n",
    "mask[np.triu_indices_from(mask)] = True\n",
    "f, ax = plt.subplots(figsize=(10, 7))\n",
    "cmap = sns.diverging_palette(220, 10, as_cmap=True)\n",
    "sns.heatmap(corr_ma, mask=mask, cmap=cmap, vmax=.3, center=0,\n",
    "            square=True, linewidths=.5, cbar_kws={\"shrink\": .5})"
   ]
  },
  {
   "cell_type": "markdown",
   "metadata": {},
   "source": [
    "The greatest correlation is around 0.25, this means there're not any correlated features"
   ]
  },
  {
   "cell_type": "code",
   "execution_count": 30,
   "metadata": {},
   "outputs": [
    {
     "data": {
      "text/plain": [
       "Marcus           5107\n",
       "Clarius          2362\n",
       "Philippus        1360\n",
       "Coronavirucus    1009\n",
       "Mongucus          640\n",
       "Paithonius        600\n",
       "Ubuntius          512\n",
       "Esequlius         427\n",
       "Name: scribe, dtype: int64"
      ]
     },
     "execution_count": 30,
     "metadata": {},
     "output_type": "execute_result"
    }
   ],
   "source": [
    "train_dataset['scribe'].value_counts()"
   ]
  },
  {
   "cell_type": "code",
   "execution_count": 32,
   "metadata": {},
   "outputs": [],
   "source": [
    "scribes = ('Marcus', 'Clarius', 'Philippus', 'Coronavirucus', 'Mongucus', 'Paithonius', 'Ubuntius', 'Esequlius')\n",
    "train_dataset.scribe = pd.Categorical(train_dataset.scribe, ordered = True, categories = scribes)\n",
    "train_dataset['scribe_c'] = train_dataset.scribe.cat.codes"
   ]
  },
  {
   "cell_type": "code",
   "execution_count": 33,
   "metadata": {},
   "outputs": [],
   "source": [
    "train_dataset.drop(['scribe'], inplace = True, axis=1)"
   ]
  },
  {
   "cell_type": "code",
   "execution_count": 34,
   "metadata": {},
   "outputs": [
    {
     "data": {
      "text/html": [
       "<div>\n",
       "<style scoped>\n",
       "    .dataframe tbody tr th:only-of-type {\n",
       "        vertical-align: middle;\n",
       "    }\n",
       "\n",
       "    .dataframe tbody tr th {\n",
       "        vertical-align: top;\n",
       "    }\n",
       "\n",
       "    .dataframe thead th {\n",
       "        text-align: right;\n",
       "    }\n",
       "</style>\n",
       "<table border=\"1\" class=\"dataframe\">\n",
       "  <thead>\n",
       "    <tr style=\"text-align: right;\">\n",
       "      <th></th>\n",
       "      <th>intercolumnar distance</th>\n",
       "      <th>upper margin</th>\n",
       "      <th>lower margin</th>\n",
       "      <th>exploitation</th>\n",
       "      <th>row number</th>\n",
       "      <th>modular ratio</th>\n",
       "      <th>interlinear spacing</th>\n",
       "      <th>weight</th>\n",
       "      <th>peak number</th>\n",
       "      <th>modular ratio/ interlinear spacing</th>\n",
       "      <th>scribe_c</th>\n",
       "    </tr>\n",
       "  </thead>\n",
       "  <tbody>\n",
       "    <tr>\n",
       "      <th>0</th>\n",
       "      <td>0.241386</td>\n",
       "      <td>0.109171</td>\n",
       "      <td>-0.127126</td>\n",
       "      <td>0.380626</td>\n",
       "      <td>0.172340</td>\n",
       "      <td>0.314889</td>\n",
       "      <td>0.484429</td>\n",
       "      <td>0.316412</td>\n",
       "      <td>0.188810</td>\n",
       "      <td>0.134922</td>\n",
       "      <td>0</td>\n",
       "    </tr>\n",
       "    <tr>\n",
       "      <th>1</th>\n",
       "      <td>0.303106</td>\n",
       "      <td>0.352558</td>\n",
       "      <td>0.082701</td>\n",
       "      <td>0.703981</td>\n",
       "      <td>0.261718</td>\n",
       "      <td>-0.391033</td>\n",
       "      <td>0.408929</td>\n",
       "      <td>1.045014</td>\n",
       "      <td>0.282354</td>\n",
       "      <td>-0.448209</td>\n",
       "      <td>1</td>\n",
       "    </tr>\n",
       "    <tr>\n",
       "      <th>2</th>\n",
       "      <td>-0.116585</td>\n",
       "      <td>0.281897</td>\n",
       "      <td>0.175168</td>\n",
       "      <td>-0.152490</td>\n",
       "      <td>0.261718</td>\n",
       "      <td>-0.889332</td>\n",
       "      <td>0.371178</td>\n",
       "      <td>-0.024328</td>\n",
       "      <td>0.905984</td>\n",
       "      <td>-0.877830</td>\n",
       "      <td>2</td>\n",
       "    </tr>\n",
       "    <tr>\n",
       "      <th>3</th>\n",
       "      <td>-0.326430</td>\n",
       "      <td>-0.652394</td>\n",
       "      <td>0.384996</td>\n",
       "      <td>-1.694222</td>\n",
       "      <td>-0.185173</td>\n",
       "      <td>-1.138481</td>\n",
       "      <td>-0.232828</td>\n",
       "      <td>-1.747116</td>\n",
       "      <td>-1.183175</td>\n",
       "      <td>-0.807380</td>\n",
       "      <td>2</td>\n",
       "    </tr>\n",
       "    <tr>\n",
       "      <th>4</th>\n",
       "      <td>-0.437525</td>\n",
       "      <td>-0.471816</td>\n",
       "      <td>0.463236</td>\n",
       "      <td>-0.545248</td>\n",
       "      <td>0.261718</td>\n",
       "      <td>-0.972381</td>\n",
       "      <td>0.824183</td>\n",
       "      <td>-3.108388</td>\n",
       "      <td>-2.991700</td>\n",
       "      <td>-1.141030</td>\n",
       "      <td>2</td>\n",
       "    </tr>\n",
       "  </tbody>\n",
       "</table>\n",
       "</div>"
      ],
      "text/plain": [
       "   intercolumnar distance  upper margin  lower margin  exploitation  \\\n",
       "0                0.241386      0.109171     -0.127126      0.380626   \n",
       "1                0.303106      0.352558      0.082701      0.703981   \n",
       "2               -0.116585      0.281897      0.175168     -0.152490   \n",
       "3               -0.326430     -0.652394      0.384996     -1.694222   \n",
       "4               -0.437525     -0.471816      0.463236     -0.545248   \n",
       "\n",
       "   row number  modular ratio  interlinear spacing    weight  peak number  \\\n",
       "0    0.172340       0.314889             0.484429  0.316412     0.188810   \n",
       "1    0.261718      -0.391033             0.408929  1.045014     0.282354   \n",
       "2    0.261718      -0.889332             0.371178 -0.024328     0.905984   \n",
       "3   -0.185173      -1.138481            -0.232828 -1.747116    -1.183175   \n",
       "4    0.261718      -0.972381             0.824183 -3.108388    -2.991700   \n",
       "\n",
       "   modular ratio/ interlinear spacing  scribe_c  \n",
       "0                            0.134922         0  \n",
       "1                           -0.448209         1  \n",
       "2                           -0.877830         2  \n",
       "3                           -0.807380         2  \n",
       "4                           -1.141030         2  "
      ]
     },
     "execution_count": 34,
     "metadata": {},
     "output_type": "execute_result"
    }
   ],
   "source": [
    "train_dataset.head()"
   ]
  },
  {
   "cell_type": "markdown",
   "metadata": {},
   "source": [
    "## 2. Train the model"
   ]
  },
  {
   "cell_type": "code",
   "execution_count": 35,
   "metadata": {},
   "outputs": [],
   "source": [
    "X = train_dataset.drop(['scribe_c'], axis= 1) \n",
    "y = train_dataset.scribe_c"
   ]
  },
  {
   "cell_type": "code",
   "execution_count": 36,
   "metadata": {},
   "outputs": [],
   "source": [
    "X_train, X_test, y_train, y_test = train_test_split(X, y, test_size=0.2)"
   ]
  },
  {
   "cell_type": "markdown",
   "metadata": {},
   "source": [
    "### a. Observamos diferentes modelos"
   ]
  },
  {
   "cell_type": "code",
   "execution_count": 37,
   "metadata": {},
   "outputs": [
    {
     "name": "stdout",
     "output_type": "stream",
     "text": [
      "Training model: GradientBoostingClassifier\n",
      "Training model: GradientBoostingClassifierP\n",
      "Training model: RandomForestClassifier\n",
      "Training model: Logistic\n",
      "Training model: SuperVectorC\n"
     ]
    },
    {
     "name": "stderr",
     "output_type": "stream",
     "text": [
      "/home/clara/.local/lib/python3.7/site-packages/sklearn/linear_model/logistic.py:432: FutureWarning: Default solver will be changed to 'lbfgs' in 0.22. Specify a solver to silence this warning.\n",
      "  FutureWarning)\n",
      "/home/clara/.local/lib/python3.7/site-packages/sklearn/linear_model/logistic.py:469: FutureWarning: Default multi_class will be changed to 'auto' in 0.22. Specify the multi_class option to silence this warning.\n",
      "  \"this warning.\", FutureWarning)\n",
      "/home/clara/.local/lib/python3.7/site-packages/sklearn/svm/base.py:193: FutureWarning: The default value of gamma will change from 'auto' to 'scale' in version 0.22 to account better for unscaled features. Set gamma explicitly to 'auto' or 'scale' to avoid this warning.\n",
      "  \"avoid this warning.\", FutureWarning)\n"
     ]
    }
   ],
   "source": [
    "models = {\n",
    "    \"GradientBoostingClassifier\" : GradientBoostingClassifier(),\n",
    "    \"GradientBoostingClassifierP\" : GradientBoostingClassifier(n_estimators=500, learning_rate=0.3),\n",
    "    \"RandomForestClassifier\" : RandomForestClassifier(n_estimators=100),\n",
    "    \"Logistic\" : LogisticRegression(),\n",
    "    \"SuperVectorC\" : SVC()\n",
    "}\n",
    "\n",
    "for modelName, model in models.items():\n",
    "    print(f\"Training model: {modelName}\")\n",
    "    model.fit(X_train, y_train)"
   ]
  },
  {
   "cell_type": "code",
   "execution_count": 38,
   "metadata": {},
   "outputs": [
    {
     "data": {
      "text/html": [
       "<div>\n",
       "<style scoped>\n",
       "    .dataframe tbody tr th:only-of-type {\n",
       "        vertical-align: middle;\n",
       "    }\n",
       "\n",
       "    .dataframe tbody tr th {\n",
       "        vertical-align: top;\n",
       "    }\n",
       "\n",
       "    .dataframe thead th {\n",
       "        text-align: right;\n",
       "    }\n",
       "</style>\n",
       "<table border=\"1\" class=\"dataframe\">\n",
       "  <thead>\n",
       "    <tr style=\"text-align: right;\">\n",
       "      <th></th>\n",
       "      <th>GradientBoostingClassifier</th>\n",
       "      <th>GradientBoostingClassifierP</th>\n",
       "      <th>RandomForestClassifier</th>\n",
       "      <th>Logistic</th>\n",
       "      <th>SuperVectorC</th>\n",
       "      <th>gt</th>\n",
       "    </tr>\n",
       "  </thead>\n",
       "  <tbody>\n",
       "    <tr>\n",
       "      <th>0</th>\n",
       "      <td>3</td>\n",
       "      <td>3</td>\n",
       "      <td>3</td>\n",
       "      <td>3</td>\n",
       "      <td>3</td>\n",
       "      <td>3</td>\n",
       "    </tr>\n",
       "    <tr>\n",
       "      <th>1</th>\n",
       "      <td>0</td>\n",
       "      <td>0</td>\n",
       "      <td>0</td>\n",
       "      <td>0</td>\n",
       "      <td>0</td>\n",
       "      <td>0</td>\n",
       "    </tr>\n",
       "    <tr>\n",
       "      <th>2</th>\n",
       "      <td>0</td>\n",
       "      <td>0</td>\n",
       "      <td>0</td>\n",
       "      <td>0</td>\n",
       "      <td>1</td>\n",
       "      <td>0</td>\n",
       "    </tr>\n",
       "    <tr>\n",
       "      <th>3</th>\n",
       "      <td>1</td>\n",
       "      <td>1</td>\n",
       "      <td>1</td>\n",
       "      <td>0</td>\n",
       "      <td>6</td>\n",
       "      <td>1</td>\n",
       "    </tr>\n",
       "    <tr>\n",
       "      <th>4</th>\n",
       "      <td>0</td>\n",
       "      <td>0</td>\n",
       "      <td>0</td>\n",
       "      <td>0</td>\n",
       "      <td>0</td>\n",
       "      <td>0</td>\n",
       "    </tr>\n",
       "    <tr>\n",
       "      <th>...</th>\n",
       "      <td>...</td>\n",
       "      <td>...</td>\n",
       "      <td>...</td>\n",
       "      <td>...</td>\n",
       "      <td>...</td>\n",
       "      <td>...</td>\n",
       "    </tr>\n",
       "    <tr>\n",
       "      <th>2399</th>\n",
       "      <td>4</td>\n",
       "      <td>4</td>\n",
       "      <td>4</td>\n",
       "      <td>4</td>\n",
       "      <td>4</td>\n",
       "      <td>4</td>\n",
       "    </tr>\n",
       "    <tr>\n",
       "      <th>2400</th>\n",
       "      <td>0</td>\n",
       "      <td>0</td>\n",
       "      <td>0</td>\n",
       "      <td>0</td>\n",
       "      <td>0</td>\n",
       "      <td>0</td>\n",
       "    </tr>\n",
       "    <tr>\n",
       "      <th>2401</th>\n",
       "      <td>0</td>\n",
       "      <td>0</td>\n",
       "      <td>0</td>\n",
       "      <td>0</td>\n",
       "      <td>0</td>\n",
       "      <td>0</td>\n",
       "    </tr>\n",
       "    <tr>\n",
       "      <th>2402</th>\n",
       "      <td>1</td>\n",
       "      <td>1</td>\n",
       "      <td>1</td>\n",
       "      <td>0</td>\n",
       "      <td>2</td>\n",
       "      <td>1</td>\n",
       "    </tr>\n",
       "    <tr>\n",
       "      <th>2403</th>\n",
       "      <td>0</td>\n",
       "      <td>0</td>\n",
       "      <td>0</td>\n",
       "      <td>0</td>\n",
       "      <td>0</td>\n",
       "      <td>0</td>\n",
       "    </tr>\n",
       "  </tbody>\n",
       "</table>\n",
       "<p>2404 rows × 6 columns</p>\n",
       "</div>"
      ],
      "text/plain": [
       "      GradientBoostingClassifier  GradientBoostingClassifierP  \\\n",
       "0                              3                            3   \n",
       "1                              0                            0   \n",
       "2                              0                            0   \n",
       "3                              1                            1   \n",
       "4                              0                            0   \n",
       "...                          ...                          ...   \n",
       "2399                           4                            4   \n",
       "2400                           0                            0   \n",
       "2401                           0                            0   \n",
       "2402                           1                            1   \n",
       "2403                           0                            0   \n",
       "\n",
       "      RandomForestClassifier  Logistic  SuperVectorC  gt  \n",
       "0                          3         3             3   3  \n",
       "1                          0         0             0   0  \n",
       "2                          0         0             1   0  \n",
       "3                          1         0             6   1  \n",
       "4                          0         0             0   0  \n",
       "...                      ...       ...           ...  ..  \n",
       "2399                       4         4             4   4  \n",
       "2400                       0         0             0   0  \n",
       "2401                       0         0             0   0  \n",
       "2402                       1         0             2   1  \n",
       "2403                       0         0             0   0  \n",
       "\n",
       "[2404 rows x 6 columns]"
      ]
     },
     "execution_count": 38,
     "metadata": {},
     "output_type": "execute_result"
    }
   ],
   "source": [
    "d = {modelName:model.predict(X_test) for modelName, model in models.items()}\n",
    "df = pd.DataFrame(d)\n",
    "df[\"gt\"] = y_test.reset_index(drop=True)\n",
    "df"
   ]
  },
  {
   "cell_type": "code",
   "execution_count": 39,
   "metadata": {},
   "outputs": [
    {
     "name": "stdout",
     "output_type": "stream",
     "text": [
      "Evaluating model [GradientBoostingClassifier]:\n",
      "Accuracy 0.9430116472545758\n",
      "Precision 0.943684061953569\n",
      "Recall 0.9430116472545758\n",
      "Evaluating model [GradientBoostingClassifierP]:\n",
      "Accuracy 0.9983361064891847\n",
      "Precision 0.9983434528948179\n",
      "Recall 0.9983361064891847\n",
      "Evaluating model [RandomForestClassifier]:\n",
      "Accuracy 0.990432612312812\n",
      "Precision 0.9905106690158957\n",
      "Recall 0.990432612312812\n",
      "Evaluating model [Logistic]:\n",
      "Accuracy 0.5474209650582362\n",
      "Precision 0.4431177048355775\n",
      "Recall 0.5474209650582362\n",
      "Evaluating model [SuperVectorC]:\n",
      "Accuracy 0.7387687188019967\n",
      "Precision 0.7497518161577587\n",
      "Recall 0.7387687188019967\n"
     ]
    },
    {
     "name": "stderr",
     "output_type": "stream",
     "text": [
      "/home/clara/.local/lib/python3.7/site-packages/sklearn/metrics/classification.py:1437: UndefinedMetricWarning: Precision is ill-defined and being set to 0.0 in labels with no predicted samples.\n",
      "  'precision', 'predicted', average, warn_for)\n"
     ]
    }
   ],
   "source": [
    "for modelName, model in models.items():    \n",
    "    print(f\"Evaluating model [{modelName}]:\")\n",
    "    print(\"Accuracy\", accuracy_score(df[\"gt\"], df[modelName]))\n",
    "    print(\"Precision\", precision_score(df[\"gt\"], df[modelName], average='weighted'))\n",
    "    print(\"Recall\", recall_score(df[\"gt\"], df[modelName], average='weighted'))"
   ]
  },
  {
   "cell_type": "markdown",
   "metadata": {},
   "source": [
    "### b. Una vez vemos cuales son esos mejores modelos, tuneamos sus parámetros"
   ]
  },
  {
   "cell_type": "markdown",
   "metadata": {},
   "source": [
    "### Gradient Boosting Parametrization\n",
    "#### A manita"
   ]
  },
  {
   "cell_type": "code",
   "execution_count": 40,
   "metadata": {},
   "outputs": [
    {
     "name": "stdout",
     "output_type": "stream",
     "text": [
      "n_estimators: 1800 min_samples_split: 50 min_samples_leaf: 50\n",
      "Accuracy: 0.9992\n",
      "Precision: 0.9992\n",
      "Recall: 0.9992\n",
      "\n",
      "n_estimators: 1800 min_samples_split: 50 min_samples_leaf: 100\n",
      "Accuracy: 0.9992\n",
      "Precision: 0.9992\n",
      "Recall: 0.9992\n",
      "\n",
      "n_estimators: 1800 min_samples_split: 100 min_samples_leaf: 50\n",
      "Accuracy: 0.9992\n",
      "Precision: 0.9992\n",
      "Recall: 0.9992\n",
      "\n",
      "n_estimators: 1800 min_samples_split: 100 min_samples_leaf: 100\n",
      "Accuracy: 0.9992\n",
      "Precision: 0.9992\n",
      "Recall: 0.9992\n",
      "\n",
      "n_estimators: 2500 min_samples_split: 50 min_samples_leaf: 50\n",
      "Accuracy: 0.9992\n",
      "Precision: 0.9992\n",
      "Recall: 0.9992\n",
      "\n",
      "n_estimators: 2500 min_samples_split: 50 min_samples_leaf: 100\n",
      "Accuracy: 0.9992\n",
      "Precision: 0.9992\n",
      "Recall: 0.9992\n",
      "\n",
      "n_estimators: 2500 min_samples_split: 100 min_samples_leaf: 50\n",
      "Accuracy: 0.9992\n",
      "Precision: 0.9992\n",
      "Recall: 0.9992\n",
      "\n",
      "n_estimators: 2500 min_samples_split: 100 min_samples_leaf: 100\n",
      "Accuracy: 0.9992\n",
      "Precision: 0.9992\n",
      "Recall: 0.9992\n",
      "\n"
     ]
    }
   ],
   "source": [
    "#your code\n",
    "learning_rate =[0.15,0.1,0.05]\n",
    "n_estimators = [1500,1750]\n",
    "min_samples_split = [50, 100]\n",
    "min_samples_leaf = [50, 100]\n",
    "for r in learning_rate:\n",
    "    for n in n_estimators:\n",
    "        for s in min_samples_split:\n",
    "            for l in min_samples_leaf:\n",
    "                tree = GradientBoostingClassifier(learning_rate = r, n_estimators=n, min_samples_split=s, min_samples_leaf=l)\n",
    "                print(\"learning_rate:\",r,\"n_estimators:\", n, \"min_samples_split:\", s, \"min_samples_leaf:\", l)\n",
    "                tree.fit(X_train, y_train)\n",
    "                prediction = tree.predict(X_test)\n",
    "                print(\"Accuracy:\", round(accuracy_score(y_test, prediction),4))\n",
    "                print(\"Precision:\", round(precision_score(y_test, prediction,average='weighted'),4))\n",
    "                print(f\"Recall: {round(recall_score(y_test, prediction,average='weighted'),4)}\\n\")"
   ]
  },
  {
   "cell_type": "markdown",
   "metadata": {},
   "source": [
    "Entrenamos con los que según lo observado serían los mejores parámetros."
   ]
  },
  {
   "cell_type": "code",
   "execution_count": 42,
   "metadata": {},
   "outputs": [
    {
     "data": {
      "text/plain": [
       "GradientBoostingClassifier(criterion='friedman_mse', init=None,\n",
       "                           learning_rate=0.1, loss='deviance', max_depth=3,\n",
       "                           max_features=None, max_leaf_nodes=None,\n",
       "                           min_impurity_decrease=0.0, min_impurity_split=None,\n",
       "                           min_samples_leaf=100, min_samples_split=100,\n",
       "                           min_weight_fraction_leaf=0.0, n_estimators=2500,\n",
       "                           n_iter_no_change=None, presort='auto',\n",
       "                           random_state=None, subsample=1.0, tol=0.0001,\n",
       "                           validation_fraction=0.1, verbose=0,\n",
       "                           warm_start=False)"
      ]
     },
     "execution_count": 42,
     "metadata": {},
     "output_type": "execute_result"
    }
   ],
   "source": [
    "chosen_gradient = GradientBoostingClassifier(n_estimators=2500, min_samples_split=100, min_samples_leaf=100)\n",
    "#chosen_gradient.fit(X_train, y_train)"
   ]
  },
  {
   "cell_type": "markdown",
   "metadata": {},
   "source": [
    "#### Con Gridsearch"
   ]
  },
  {
   "cell_type": "markdown",
   "metadata": {},
   "source": [
    "https://scikit-learn.org/stable/modules/generated/sklearn.model_selection.GridSearchCV.html"
   ]
  },
  {
   "cell_type": "code",
   "execution_count": null,
   "metadata": {},
   "outputs": [],
   "source": [
    "params = {'learning_rate':[0.15,0.1,0.05], \n",
    "           'n_estimators':[1500,1750],\n",
    "           'min_samples_split':[50, 100],\n",
    "           'min_samples_leaf': [50, 100]}\n",
    "\n",
    "tuning_gradient = GridSearchCV(estimator=GradientBoostingClassifier(max_depth=4, min_samples_split=2, min_samples_leaf=1, subsample=1,max_features='sqrt', random_state=10), \n",
    "            param_grid=params, scoring='accuracy',n_jobs=4,iid=False, cv=5)\n",
    "\n",
    "#tuning_gradient.fit(X_train,y_train)"
   ]
  },
  {
   "cell_type": "markdown",
   "metadata": {},
   "source": [
    "Acuérdate de usar el parámetro **verbose** para ver qué está haciendo tu GridSearch en la terminal. "
   ]
  },
  {
   "cell_type": "markdown",
   "metadata": {},
   "source": [
    "----------------------------------------------------------------------------------------------------------------"
   ]
  },
  {
   "cell_type": "markdown",
   "metadata": {},
   "source": [
    "## What do I do once I have a prediction?"
   ]
  },
  {
   "cell_type": "markdown",
   "metadata": {},
   "source": [
    "Once you have already trained your model and made a prediction with it, you are ready to check what is the accuracy of it. \n",
    "\n",
    "Save your prediction as a `.csv` file."
   ]
  },
  {
   "cell_type": "code",
   "execution_count": 13,
   "metadata": {},
   "outputs": [],
   "source": [
    "#your code here"
   ]
  },
  {
   "cell_type": "markdown",
   "metadata": {},
   "source": [
    "Now you are ready to know the truth! Are you good enough to call yourself a pro?\n",
    "\n",
    "Lucky you have the ultimate **APIla-bible** which give you the chance of checking the accuracy of your predictions as many times as you need in order to become the pro you want to be. "
   ]
  },
  {
   "cell_type": "markdown",
   "metadata": {},
   "source": [
    "## How do I post my prediction to the APIla-bible?"
   ]
  },
  {
   "cell_type": "markdown",
   "metadata": {},
   "source": [
    "Easy peasy! You should only fulfil the path to your prediction `.csv` and run the cell below! "
   ]
  },
  {
   "cell_type": "code",
   "execution_count": 54,
   "metadata": {},
   "outputs": [
    {
     "data": {
      "text/plain": [
       "{'ERROR': 406,\n",
       " 'Who you gonna call?': 'Ghostbusters!',\n",
       " 'description': 'Not acceptable. Expected shape of (8012, 1), instead got (8013, 0)'}"
      ]
     },
     "execution_count": 54,
     "metadata": {},
     "output_type": "execute_result"
    }
   ],
   "source": [
    "my_submission = \"../data/sample_submission.csv\"\n",
    "with open(my_submission) as f:\n",
    "    res = requests.post(\"http://apila-bible.herokuapp.com/check\", files={\"csv_data\":f.read()})\n",
    "res.json()"
   ]
  },
  {
   "cell_type": "markdown",
   "metadata": {},
   "source": [
    "![hope-you-enjoy](https://imgs.xkcd.com/comics/machine_learning.png)"
   ]
  }
 ],
 "metadata": {
  "kernelspec": {
   "display_name": "Python 3",
   "language": "python",
   "name": "python3"
  },
  "language_info": {
   "codemirror_mode": {
    "name": "ipython",
    "version": 3
   },
   "file_extension": ".py",
   "mimetype": "text/x-python",
   "name": "python",
   "nbconvert_exporter": "python",
   "pygments_lexer": "ipython3",
   "version": "3.7.5"
  }
 },
 "nbformat": 4,
 "nbformat_minor": 2
}
